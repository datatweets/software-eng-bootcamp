{
  "cells": [
    {
      "cell_type": "markdown",
      "id": "5cd5e34e",
      "metadata": {
        "id": "5cd5e34e"
      },
      "source": [
        "# Python Crash Course\n",
        "\n",
        "**Target Audience:** Complete Python beginners\n",
        "\n",
        "**What You'll Learn:** Essential Python concepts for programming and data manipulation\n",
        "\n",
        "---\n",
        "\n",
        "## Part 1: Python Basics\n",
        "\n",
        "### Imports and Comments\n",
        "\n",
        "Python programs often need to bring in external tools (libraries). Most Python projects start with imports."
      ]
    },
    {
      "cell_type": "code",
      "execution_count": null,
      "id": "026f40ab",
      "metadata": {
        "id": "026f40ab"
      },
      "outputs": [],
      "source": [
        "# This is a single-line comment - Python ignores it\n",
        "# Use comments to explain your code\n",
        "\n",
        "# Importing tools/libraries\n",
        "import time  # For timing operations\n",
        "from datetime import datetime  # For working with dates\n",
        "\n",
        "# You'll see this pattern constantly in Python projects:\n",
        "# from module.submodule import specific_function"
      ]
    },
    {
      "cell_type": "markdown",
      "id": "c6f08512",
      "metadata": {
        "id": "c6f08512"
      },
      "source": [
        "**Multi-line comments (docstrings):**"
      ]
    },
    {
      "cell_type": "code",
      "execution_count": null,
      "id": "8157c2f0",
      "metadata": {
        "id": "8157c2f0"
      },
      "outputs": [],
      "source": [
        "\"\"\"\n",
        "This is a multi-line comment (docstring).\n",
        "Used for longer explanations or function documentation.\n",
        "You'll see these throughout Python code.\n",
        "\"\"\"\n",
        "\n",
        "def my_function():\n",
        "    \"\"\"This describes what the function does\"\"\"\n",
        "    pass"
      ]
    },
    {
      "cell_type": "markdown",
      "id": "18ee87aa",
      "metadata": {
        "id": "18ee87aa"
      },
      "source": [
        "### Variables and Data Types"
      ]
    },
    {
      "cell_type": "code",
      "execution_count": null,
      "id": "3b9a5543",
      "metadata": {
        "colab": {
          "base_uri": "https://localhost:8080/"
        },
        "id": "3b9a5543",
        "outputId": "2f690640-a916-4676-8494-74d89d9bc637"
      },
      "outputs": [
        {
          "name": "stdout",
          "output_type": "stream",
          "text": [
            "<class 'str'>\n",
            "<class 'float'>\n",
            "<class 'int'>\n",
            "<class 'bool'>\n"
          ]
        }
      ],
      "source": [
        "# Variables store data\n",
        "customer_name = \"Alice Johnson\"\n",
        "balance = 15000.50\n",
        "account_number = 123456\n",
        "is_active = True\n",
        "\n",
        "# Python figures out the type automatically\n",
        "print(type(customer_name))   # str (string/text)\n",
        "print(type(balance))         # float (decimal)\n",
        "print(type(account_number))  # int (integer/whole number)\n",
        "print(type(is_active))       # bool (boolean: True/False)"
      ]
    },
    {
      "cell_type": "markdown",
      "id": "0ee9ce03",
      "metadata": {
        "id": "0ee9ce03"
      },
      "source": [
        "### String Formatting (Critical for Output)\n",
        "\n",
        "Python uses f-strings for formatted output - you'll see this everywhere in modern Python code."
      ]
    },
    {
      "cell_type": "code",
      "execution_count": null,
      "id": "ae75fc23",
      "metadata": {
        "colab": {
          "base_uri": "https://localhost:8080/"
        },
        "id": "ae75fc23",
        "outputId": "0350f27d-310b-4141-afc4-d8f05dda746f"
      },
      "outputs": [
        {
          "name": "stdout",
          "output_type": "stream",
          "text": [
            "Customer: Alice\n",
            "Balance: $15000.5\n",
            "Total: 1,234,567\n",
            "Amount: $15000.50\n",
            "Customer Alice has $15,000.50\n"
          ]
        }
      ],
      "source": [
        "name = \"Alice\"\n",
        "balance = 15000.5\n",
        "count = 1234567\n",
        "\n",
        "# f-strings: Put 'f' before the string and use {}\n",
        "print(f\"Customer: {name}\")\n",
        "print(f\"Balance: ${balance}\")\n",
        "\n",
        "# Format numbers with thousands separator\n",
        "print(f\"Total: {count:,}\")\n",
        "\n",
        "# Format decimals to 2 places\n",
        "print(f\"Amount: ${balance:.2f}\")\n",
        "\n",
        "# Combine formatting\n",
        "print(f\"Customer {name} has ${balance:,.2f}\")"
      ]
    },
    {
      "cell_type": "markdown",
      "id": "4f46a71e",
      "metadata": {
        "id": "4f46a71e"
      },
      "source": [
        "**Why this matters:** Professional Python code uses this pattern for clear, readable output.\n",
        "\n",
        "### Exercise 1 (2 min)\n",
        "\n",
        "Create variables for: customer_name, annual_income (85000.50), customer_count (5000).\n",
        "Print using f-strings with proper formatting."
      ]
    },
    {
      "cell_type": "code",
      "execution_count": null,
      "id": "fca4fb01",
      "metadata": {
        "colab": {
          "base_uri": "https://localhost:8080/"
        },
        "id": "fca4fb01",
        "outputId": "c704bd5c-18b7-4b51-8ca6-30c2a7e9f894"
      },
      "outputs": [
        {
          "name": "stdout",
          "output_type": "stream",
          "text": [
            "Customer: Mehdi\n",
            "Annual Income: $85000.50\n",
            "Customer Count: 5000\n"
          ]
        }
      ],
      "source": [
        "# Your code here:\n",
        "customer_name = \"Mehdi\"\n",
        "annual_income = 85000.50\n",
        "customer_count =5000\n",
        "print(f\"Customer: {customer_name}\")\n",
        "print(f\"Annual Income: ${annual_income:.2f}\")\n",
        "print(f\"Customer Count: {customer_count}\")"
      ]
    },
    {
      "cell_type": "markdown",
      "id": "0b21d905",
      "metadata": {
        "id": "0b21d905"
      },
      "source": [
        "---\n",
        "\n",
        "## Part 2: Lists\n",
        "\n",
        "### Creating and Accessing Lists"
      ]
    },
    {
      "cell_type": "code",
      "execution_count": null,
      "id": "660ab9df",
      "metadata": {
        "colab": {
          "base_uri": "https://localhost:8080/"
        },
        "id": "660ab9df",
        "outputId": "161d0e67-aa41-4253-9f53-8fc651b348df"
      },
      "outputs": [
        {
          "name": "stdout",
          "output_type": "stream",
          "text": [
            "1000\n",
            "2500\n",
            "8000\n",
            "500\n",
            "[1000, 2500, 15000]\n",
            "[15000, 500, 8000]\n",
            "[1000, 2500, 15000]\n"
          ]
        }
      ],
      "source": [
        "# Lists hold multiple items in order\n",
        "balances = [1000, 2500, 15000, 500, 8000]\n",
        "customers = [\"Alice\", \"Bob\", \"Charlie\", \"Diana\"]\n",
        "\n",
        "# Access by index (starts at 0)\n",
        "print(balances[0])    # 1000 (first)\n",
        "print(balances[1])    # 2500 (second)\n",
        "print(balances[-1])   # 8000 (last)\n",
        "print(balances[-2])   # 500 (second to last)\n",
        "\n",
        "# Slicing\n",
        "print(balances[0:3])  # First 3: [1000, 2500, 15000]\n",
        "print(balances[2:])   # From index 2 onward\n",
        "print(balances[:3])   # Up to (not including) index 3"
      ]
    },
    {
      "cell_type": "markdown",
      "id": "d507b4c2",
      "metadata": {
        "id": "d507b4c2"
      },
      "source": [
        "### List Operations"
      ]
    },
    {
      "cell_type": "code",
      "execution_count": null,
      "id": "e23851ec",
      "metadata": {
        "colab": {
          "base_uri": "https://localhost:8080/"
        },
        "id": "e23851ec",
        "outputId": "7b6c355d-4fd2-44b2-a0ef-7eb7207c696c"
      },
      "outputs": [
        {
          "name": "stdout",
          "output_type": "stream",
          "text": [
            "4\n",
            "Alice\n",
            "Bob\n",
            "Charlie\n",
            "Diana\n",
            "Eve\n"
          ]
        }
      ],
      "source": [
        "# Length\n",
        "print(len(customers))\n",
        "\n",
        "# Add items\n",
        "customers.append(\"Eve\")\n",
        "\n",
        "# Check membership\n",
        "\"Alice\" in customers  # True\n",
        "\"Frank\" in customers  # False\n",
        "\n",
        "# Loop through list (we'll cover loops later)\n",
        "for customer in customers:\n",
        "    print(customer)"
      ]
    },
    {
      "cell_type": "markdown",
      "id": "215e4488",
      "metadata": {
        "id": "215e4488"
      },
      "source": [
        "### Exercise 2 (2 min)\n",
        "\n",
        "Create a list of 5 account balances. Print the first, last, and middle item. Add a new balance and print the count."
      ]
    },
    {
      "cell_type": "code",
      "execution_count": null,
      "id": "5f73ad1c",
      "metadata": {
        "colab": {
          "base_uri": "https://localhost:8080/"
        },
        "id": "5f73ad1c",
        "outputId": "f77eb2e5-d10f-431f-aece-79c50d6e68c0"
      },
      "outputs": [
        {
          "name": "stdout",
          "output_type": "stream",
          "text": [
            "1000\n",
            "8000\n",
            "15000\n"
          ]
        }
      ],
      "source": [
        "# Your code here:\n",
        "balances = [1000, 2500, 15000, 500, 8000]\n",
        "print(balances[0])\n",
        "print(balances[-1])\n",
        "print(balances[2])"
      ]
    },
    {
      "cell_type": "markdown",
      "id": "0b63a38c",
      "metadata": {
        "id": "0b63a38c"
      },
      "source": [
        "---\n",
        "\n",
        "## Part 3: Dictionaries and Tuples\n",
        "\n",
        "### Dictionaries: Key-Value Data Structure\n",
        "\n",
        "Dictionaries are key-value pairs. They're fundamental to Python programming and data manipulation."
      ]
    },
    {
      "cell_type": "code",
      "execution_count": null,
      "id": "cc45eab4",
      "metadata": {
        "colab": {
          "base_uri": "https://localhost:8080/"
        },
        "id": "cc45eab4",
        "outputId": "193139ac-6ec3-4932-a163-0076fe531fa2"
      },
      "outputs": [
        {
          "name": "stdout",
          "output_type": "stream",
          "text": [
            "Alice Johnson\n",
            "25000\n",
            "Email: alice@bank.com\n",
            "dict_keys(['customer_id', 'name', 'balance', 'segment', 'risk_score', 'email'])\n",
            "dict_values(['CUST001', 'Alice Johnson', 26000, 'Premium', 750, 'alice@bank.com'])\n",
            "dict_items([('customer_id', 'CUST001'), ('name', 'Alice Johnson'), ('balance', 26000), ('segment', 'Premium'), ('risk_score', 750), ('email', 'alice@bank.com')])\n"
          ]
        }
      ],
      "source": [
        "# Creating a dictionary\n",
        "customer = {\n",
        "    \"customer_id\": \"CUST001\",\n",
        "    \"name\": \"Alice Johnson\",\n",
        "    \"balance\": 25000,\n",
        "    \"segment\": \"Premium\",\n",
        "    \"risk_score\": 750\n",
        "}\n",
        "\n",
        "# Access values by key\n",
        "print(customer[\"name\"])\n",
        "print(customer[\"balance\"])\n",
        "\n",
        "# Add or update\n",
        "customer[\"email\"] = \"alice@bank.com\"\n",
        "customer[\"balance\"] = 26000\n",
        "\n",
        "# Check if key exists\n",
        "if \"email\" in customer:\n",
        "    print(f\"Email: {customer['email']}\")\n",
        "\n",
        "# Get all keys or values\n",
        "print(customer.keys())\n",
        "print(customer.values())\n",
        "print(customer.items())  # Returns key-value pairs"
      ]
    },
    {
      "cell_type": "markdown",
      "id": "fa818089",
      "metadata": {
        "id": "fa818089"
      },
      "source": [
        "### List of Dictionaries (Very Common Pattern)"
      ]
    },
    {
      "cell_type": "code",
      "execution_count": null,
      "id": "0dc4da73",
      "metadata": {
        "colab": {
          "base_uri": "https://localhost:8080/"
        },
        "id": "0dc4da73",
        "outputId": "79b9240c-7367-42e7-8239-a93fbc0838b8"
      },
      "outputs": [
        {
          "name": "stdout",
          "output_type": "stream",
          "text": [
            "{'id': 'C001', 'name': 'Alice', 'balance': 25000}\n",
            "Bob\n",
            "35000\n"
          ]
        }
      ],
      "source": [
        "# Multiple customer records\n",
        "customers = [\n",
        "    {\"id\": \"C001\", \"name\": \"Alice\", \"balance\": 25000},\n",
        "    {\"id\": \"C002\", \"name\": \"Bob\", \"balance\": 15000},\n",
        "    {\"id\": \"C003\", \"name\": \"Charlie\", \"balance\": 35000}\n",
        "]\n",
        "\n",
        "# Access\n",
        "print(customers[0])              # First customer (entire dict)\n",
        "print(customers[1][\"name\"])      # \"Bob\"\n",
        "print(customers[2][\"balance\"])   # 35000"
      ]
    },
    {
      "cell_type": "markdown",
      "id": "2ed939df",
      "metadata": {
        "id": "2ed939df"
      },
      "source": [
        "### Tuples: Immutable Lists"
      ]
    },
    {
      "cell_type": "code",
      "execution_count": null,
      "id": "d8ee9206",
      "metadata": {
        "id": "d8ee9206"
      },
      "outputs": [],
      "source": [
        "# Tuples use parentheses and cannot be changed\n",
        "account_info = (\"ACC001\", \"Checking\", 1000.0)\n",
        "\n",
        "# Access like lists\n",
        "account_info[0]  # \"ACC001\"\n",
        "account_info[1]  # \"Checking\"\n",
        "\n",
        "# But cannot modify\n",
        "# account_info[0] = \"ACC002\"  # ERROR!\n",
        "\n",
        "# Use tuples for fixed data that shouldn't change"
      ]
    },
    {
      "cell_type": "markdown",
      "id": "6d30846b",
      "metadata": {
        "id": "6d30846b"
      },
      "source": [
        "### Exercise 3 (2 min)\n",
        "\n",
        "Create a dictionary for a customer with: id, name, income, risk_score. Print the name and risk_score using f-strings."
      ]
    },
    {
      "cell_type": "code",
      "execution_count": null,
      "id": "4d5338ff",
      "metadata": {
        "colab": {
          "base_uri": "https://localhost:8080/"
        },
        "id": "4d5338ff",
        "outputId": "b7e5a85b-ae70-4f24-c248-ef7e8c091e45"
      },
      "outputs": [
        {
          "name": "stdout",
          "output_type": "stream",
          "text": [
            "Name: Alice\n",
            "Risk Score: 750\n"
          ]
        }
      ],
      "source": [
        "# Your code here:\n",
        "customer = {\n",
        "    \"id\": \"C001\",\n",
        "    \"name\": \"Alice\",\n",
        "    \"income\": 85000.50,\n",
        "    \"risk_score\": 750\n",
        "}\n",
        "print(f\"Name: {customer['name']}\")\n",
        "print(f\"Risk Score: {customer['risk_score']}\")"
      ]
    },
    {
      "cell_type": "markdown",
      "id": "23be702d",
      "metadata": {
        "id": "23be702d"
      },
      "source": [
        "---\n",
        "\n",
        "## Part 4: None and Null Handling\n",
        "\n",
        "### Understanding None\n",
        "\n",
        "`None` is Python's way of representing \"no value\" or \"missing data\". Critical for data quality checks."
      ]
    },
    {
      "cell_type": "code",
      "execution_count": null,
      "id": "0a947927",
      "metadata": {
        "colab": {
          "base_uri": "https://localhost:8080/"
        },
        "id": "0a947927",
        "outputId": "26b75f1c-e559-41e6-ae70-7a93e2bc29e6"
      },
      "outputs": [
        {
          "name": "stdout",
          "output_type": "stream",
          "text": [
            "No email on file\n"
          ]
        }
      ],
      "source": [
        "# None represents missing/null data\n",
        "customer_email = None\n",
        "customer_phone = \"555-1234\"\n",
        "\n",
        "# Check for None\n",
        "if customer_email is None:\n",
        "    print(\"No email on file\")\n",
        "else:\n",
        "    print(f\"Email: {customer_email}\")\n",
        "\n",
        "# Common pattern in data processing\n",
        "customer = {\n",
        "    \"id\": \"C001\",\n",
        "    \"name\": \"Alice\",\n",
        "    \"email\": None,  # Missing\n",
        "    \"phone\": \"555-1234\"\n",
        "}\n",
        "\n",
        "# Check before using\n",
        "if customer[\"email\"] is not None:\n",
        "    print(f\"Contact: {customer['email']}\")"
      ]
    },
    {
      "cell_type": "code",
      "execution_count": null,
      "id": "F_3jQdfLambV",
      "metadata": {
        "colab": {
          "base_uri": "https://localhost:8080/"
        },
        "id": "F_3jQdfLambV",
        "outputId": "4dec9cc7-2208-4a58-ac38-7fefc62b47d4"
      },
      "outputs": [
        {
          "name": "stdout",
          "output_type": "stream",
          "text": [
            "Email: alice@email.com\n"
          ]
        }
      ],
      "source": [
        "customer['email']= 'alice@email.com'\n",
        "# Check for None\n",
        "if customer['email'] is None:\n",
        "    print(\"No email on file\")\n",
        "else:\n",
        "    print(f\"Email: {customer[\"email\"]}\")\n"
      ]
    },
    {
      "cell_type": "markdown",
      "id": "7c9b1eeb",
      "metadata": {
        "id": "7c9b1eeb"
      },
      "source": [
        "### Handling None in Lists and Dictionaries"
      ]
    },
    {
      "cell_type": "code",
      "execution_count": null,
      "id": "9c91deeb",
      "metadata": {
        "colab": {
          "base_uri": "https://localhost:8080/"
        },
        "id": "9c91deeb",
        "outputId": "c81eee18-b33f-4163-d235-8473b99b04c5"
      },
      "outputs": [
        {
          "name": "stdout",
          "output_type": "stream",
          "text": [
            "[1000, 2500, 8000]\n",
            "Missing values: 2\n"
          ]
        }
      ],
      "source": [
        "# List with None values\n",
        "balances = [1000, None, 2500, None, 8000]\n",
        "\n",
        "# Filter out None values\n",
        "valid_balances = [b for b in balances if b is not None]\n",
        "print(valid_balances)\n",
        "\n",
        "# Count None values\n",
        "none_count = sum(1 for b in balances if b is None)\n",
        "print(f\"Missing values: {none_count}\")"
      ]
    },
    {
      "cell_type": "markdown",
      "id": "b2e28ff2",
      "metadata": {
        "id": "b2e28ff2"
      },
      "source": [
        "### The get() Method for Safe Dictionary Access"
      ]
    },
    {
      "cell_type": "code",
      "execution_count": null,
      "id": "71b720c2",
      "metadata": {
        "colab": {
          "base_uri": "https://localhost:8080/"
        },
        "id": "71b720c2",
        "outputId": "ed6f6721-8537-421f-ad5a-7043de0bfeae"
      },
      "outputs": [
        {
          "name": "stdout",
          "output_type": "stream",
          "text": [
            "None\n",
            "no-email@provided.com\n"
          ]
        }
      ],
      "source": [
        "customer = {\"id\": \"C001\", \"name\": \"Alice\"}\n",
        "\n",
        "# This would error if key doesn't exist:\n",
        "# customer[\"email\"]  # KeyError!\n",
        "\n",
        "# Safe access with get() - returns None if key missing\n",
        "email = customer.get(\"email\")\n",
        "print(email)  # None\n",
        "\n",
        "# Provide a default value\n",
        "email = customer.get(\"email\", \"no-email@provided.com\")\n",
        "print(email)  # \"no-email@provided.com\""
      ]
    },
    {
      "cell_type": "markdown",
      "id": "3b7a8af1",
      "metadata": {
        "id": "3b7a8af1"
      },
      "source": [
        "### Exercise 4 (2 min)\n",
        "\n",
        "Create a list with some None values. Count how many None values exist. Print the count."
      ]
    },
    {
      "cell_type": "code",
      "execution_count": null,
      "id": "6457152b",
      "metadata": {
        "id": "6457152b"
      },
      "outputs": [],
      "source": [
        "# Your code here:"
      ]
    },
    {
      "cell_type": "markdown",
      "id": "16d0c0fa",
      "metadata": {
        "id": "16d0c0fa"
      },
      "source": [
        "---\n",
        "\n",
        "## Part 5: Control Flow\n",
        "\n",
        "### If Statements"
      ]
    },
    {
      "cell_type": "code",
      "execution_count": null,
      "id": "db78bb17",
      "metadata": {
        "colab": {
          "base_uri": "https://localhost:8080/"
        },
        "id": "db78bb17",
        "outputId": "a3844958-4040-4735-a767-f3799cc09811"
      },
      "outputs": [
        {
          "name": "stdout",
          "output_type": "stream",
          "text": [
            "Standard customer\n"
          ]
        }
      ],
      "source": [
        "balance = 5001\n",
        "\n",
        "if balance > 10000:\n",
        "    print(\"High balance customer\")\n",
        "    print(\"Eligible for premium services\")\n",
        "elif balance > 5000:\n",
        "    print(\"Standard customer\")\n",
        "else:\n",
        "    print(\"Basic account\")"
      ]
    },
    {
      "cell_type": "markdown",
      "id": "5016b111",
      "metadata": {
        "id": "5016b111"
      },
      "source": [
        "### Comparison Operators\n",
        "\n",
        "| Operator | Description | Example | Result |\n",
        "|---|---|---|---|\n",
        "| `==` | Equal to | `5 == 5` | `True` |\n",
        "| `!=` | Not equal to | `5 != 10` | `True` |\n",
        "| `>` | Greater than | `10 > 5` | `True` |\n",
        "| `<` | Less than | `5 < 10` | `True` |\n",
        "| `>=` | Greater than or equal to | `10 >= 10` | `True` |\n",
        "| `<=` | Less than or equal to | `5 <= 10` | `True` |"
      ]
    },
    {
      "cell_type": "markdown",
      "id": "47c5570b",
      "metadata": {
        "id": "47c5570b"
      },
      "source": [
        "### Checking Multiple Conditions\n",
        "\n",
        "Logical operators combine conditions: `and`, `or`, `not`.\n",
        "\n",
        "**Truth Table:**\n",
        "\n",
        "| Condition A | Condition B | A and B | A or B | not A |\n",
        "|---|---|---|---|---|\n",
        "| True | True | True | True | False |\n",
        "| True | False | False | True | False |\n",
        "| False | True | False | True | True |\n",
        "| False | False | False | False | True |"
      ]
    },
    {
      "cell_type": "code",
      "execution_count": null,
      "id": "a2d16797",
      "metadata": {
        "colab": {
          "base_uri": "https://localhost:8080/"
        },
        "id": "a2d16797",
        "outputId": "986ebc07-fad7-4259-dff0-b6db31641e50"
      },
      "outputs": [
        {
          "name": "stdout",
          "output_type": "stream",
          "text": [
            "Approved\n"
          ]
        }
      ],
      "source": [
        "income = 75000\n",
        "risk_score = 720\n",
        "\n",
        "if income > 50000 and risk_score > 700:\n",
        "    print(\"Approved\")\n",
        "elif income > 50000 or risk_score > 700:\n",
        "    print(\"Review needed\")\n",
        "else:\n",
        "    print(\"Not approved\")"
      ]
    },
    {
      "cell_type": "markdown",
      "id": "aa899cb4",
      "metadata": {
        "id": "aa899cb4"
      },
      "source": [
        "### Checking Multiple Conditions"
      ]
    },
    {
      "cell_type": "code",
      "execution_count": null,
      "id": "00843749",
      "metadata": {
        "colab": {
          "base_uri": "https://localhost:8080/"
        },
        "id": "00843749",
        "outputId": "ec31a2b7-7625-42cc-d76b-7779041138ea"
      },
      "outputs": [
        {
          "name": "stdout",
          "output_type": "stream",
          "text": [
            "VIP customer\n",
            "Special treatment\n",
            "Sufficient balance\n"
          ]
        }
      ],
      "source": [
        "segment = \"Premium\"\n",
        "balance = 25000\n",
        "\n",
        "# AND - both must be true\n",
        "if segment == \"Premium\" and balance > 20000:\n",
        "    print(\"VIP customer\")\n",
        "\n",
        "# OR - at least one must be true\n",
        "if segment == \"Premium\" or balance > 50000:\n",
        "    print(\"Special treatment\")\n",
        "\n",
        "# NOT - reverse the condition\n",
        "if not (balance < 1000):\n",
        "    print(\"Sufficient balance\")"
      ]
    },
    {
      "cell_type": "markdown",
      "id": "8ebe874b",
      "metadata": {
        "id": "8ebe874b"
      },
      "source": [
        "### For Loops"
      ]
    },
    {
      "cell_type": "code",
      "execution_count": null,
      "id": "376a9632",
      "metadata": {
        "colab": {
          "base_uri": "https://localhost:8080/"
        },
        "id": "376a9632",
        "outputId": "bae49a31-a594-428b-865c-20dd0184b0f6"
      },
      "outputs": [
        {
          "name": "stdout",
          "output_type": "stream",
          "text": [
            "$1,000\n",
            "$2,500\n",
            "$15,000\n",
            "$500\n",
            "$8,000\n"
          ]
        }
      ],
      "source": [
        "balances = [1000, 2500, 15000, 500, 8000]\n",
        "\n",
        "# Loop through each item\n",
        "for balance in balances:\n",
        "    print(f\"${balance:,}\")"
      ]
    },
    {
      "cell_type": "markdown",
      "id": "748b3d98",
      "metadata": {
        "id": "748b3d98"
      },
      "source": [
        "### Loop with Conditional Logic"
      ]
    },
    {
      "cell_type": "code",
      "execution_count": null,
      "id": "158bd9c1",
      "metadata": {
        "colab": {
          "base_uri": "https://localhost:8080/"
        },
        "id": "158bd9c1",
        "outputId": "fe472a08-9876-4b6d-9f43-80f7fbf752ee"
      },
      "outputs": [
        {
          "name": "stdout",
          "output_type": "stream",
          "text": [
            "$1,000 - Standard\n",
            "$2,500 - Standard\n",
            "$15,000 - High value\n",
            "$500 - Standard\n",
            "$8,000 - High value\n"
          ]
        }
      ],
      "source": [
        "for balance in balances:\n",
        "    if balance > 5000:\n",
        "        print(f\"${balance:,} - High value\")\n",
        "    else:\n",
        "        print(f\"${balance:,} - Standard\")"
      ]
    },
    {
      "cell_type": "markdown",
      "id": "27424131",
      "metadata": {
        "id": "27424131"
      },
      "source": [
        "### Range Function"
      ]
    },
    {
      "cell_type": "code",
      "execution_count": null,
      "id": "0d2d9ded",
      "metadata": {
        "colab": {
          "base_uri": "https://localhost:8080/"
        },
        "id": "0d2d9ded",
        "outputId": "7061f0fc-5b77-4fe7-92d0-1cb96ca67cda"
      },
      "outputs": [
        {
          "name": "stdout",
          "output_type": "stream",
          "text": [
            "0\n",
            "1\n",
            "2\n",
            "3\n",
            "4\n",
            "1\n",
            "2\n",
            "3\n",
            "4\n",
            "5\n",
            "CUST001\n",
            "CUST002\n",
            "CUST003\n",
            "CUST004\n",
            "CUST005\n"
          ]
        }
      ],
      "source": [
        "# Generate sequence of numbers\n",
        "for i in range(5):\n",
        "    print(i)  # 0, 1, 2, 3, 4\n",
        "\n",
        "for i in range(1, 6):\n",
        "    print(i)  # 1, 2, 3, 4, 5\n",
        "\n",
        "# Create customer IDs\n",
        "for i in range(1, 6):\n",
        "    customer_id = f\"CUST{i:03d}\"  # Format with leading zeros\n",
        "    print(customer_id)  # CUST001, CUST002, ..."
      ]
    },
    {
      "cell_type": "markdown",
      "id": "c4099fa9",
      "metadata": {
        "id": "c4099fa9"
      },
      "source": [
        "### Looping Through Dictionaries"
      ]
    },
    {
      "cell_type": "code",
      "execution_count": null,
      "id": "3fdff4db",
      "metadata": {
        "colab": {
          "base_uri": "https://localhost:8080/"
        },
        "id": "3fdff4db",
        "outputId": "a98824a4-e21f-4025-91e0-b8adf15e1dc5"
      },
      "outputs": [
        {
          "name": "stdout",
          "output_type": "stream",
          "text": [
            "name\n",
            "balance\n",
            "type\n",
            "Alice\n",
            "25000\n",
            "Premium\n",
            "name: Alice\n",
            "balance: 25000\n",
            "type: Premium\n"
          ]
        }
      ],
      "source": [
        "customer = {\"name\": \"Alice\", \"balance\": 25000, \"type\": \"Premium\"}\n",
        "\n",
        "# Loop through keys\n",
        "for key in customer:\n",
        "    print(key)\n",
        "\n",
        "# Loop through values\n",
        "for value in customer.values():\n",
        "    print(value)\n",
        "\n",
        "# Loop through key-value pairs\n",
        "for key, value in customer.items():\n",
        "    print(f\"{key}: {value}\")"
      ]
    },
    {
      "cell_type": "markdown",
      "id": "705d113f",
      "metadata": {
        "id": "705d113f"
      },
      "source": [
        "### Exercise 5 (3 min)\n",
        "\n",
        "Given: `balances = [500, 15000, 2000, 25000, 1000]`\n",
        "\n",
        "Loop through and print \"`Premium: $amount`\" if > 10000, else \"`Standard: $amount`\""
      ]
    },
    {
      "cell_type": "code",
      "execution_count": null,
      "id": "5c5f99d3",
      "metadata": {
        "id": "5c5f99d3"
      },
      "outputs": [],
      "source": [
        "# Your code here:"
      ]
    },
    {
      "cell_type": "markdown",
      "id": "717bf934",
      "metadata": {
        "id": "717bf934"
      },
      "source": [
        "---\n",
        "\n",
        "## Part 6: Functions\n",
        "\n",
        "### Defining Functions"
      ]
    },
    {
      "cell_type": "code",
      "execution_count": null,
      "id": "6d3650ef",
      "metadata": {
        "colab": {
          "base_uri": "https://localhost:8080/"
        },
        "id": "6d3650ef",
        "outputId": "33a19e28-6876-41ab-958d-f187a9e0720d"
      },
      "outputs": [
        {
          "name": "stdout",
          "output_type": "stream",
          "text": [
            "Interest: $200.0\n"
          ]
        }
      ],
      "source": [
        "def calculate_interest(balance, rate):\n",
        "    \"\"\"Calculate annual interest on a balance\"\"\"\n",
        "    interest = balance * rate\n",
        "    return interest\n",
        "\n",
        "# Call the function\n",
        "result = calculate_interest(10000, 0.02)\n",
        "print(f\"Interest: ${result}\")"
      ]
    },
    {
      "cell_type": "markdown",
      "id": "5b489ff1",
      "metadata": {
        "id": "5b489ff1"
      },
      "source": [
        "### Functions with Default Parameters"
      ]
    },
    {
      "cell_type": "code",
      "execution_count": null,
      "id": "4f7e240d",
      "metadata": {
        "colab": {
          "base_uri": "https://localhost:8080/"
        },
        "id": "4f7e240d",
        "outputId": "852b3f68-1fb1-44c4-d6e4-791760a022d7"
      },
      "outputs": [
        {
          "name": "stdout",
          "output_type": "stream",
          "text": [
            "Premium\n",
            "Standard\n"
          ]
        }
      ],
      "source": [
        "def categorize_customer(income, risk_score=700):\n",
        "    \"\"\"\n",
        "    Assign customer category.\n",
        "    If risk_score not provided, defaults to 700.\n",
        "    \"\"\"\n",
        "    if income > 100000 and risk_score > 750:\n",
        "        return \"Premium\"\n",
        "    elif income > 50000 and risk_score > 650:\n",
        "        return \"Standard\"\n",
        "    else:\n",
        "        return \"Basic\"\n",
        "\n",
        "# Call with both arguments\n",
        "cat1 = categorize_customer(120000, 780)\n",
        "print(cat1)  # Premium\n",
        "\n",
        "# Call with just income (uses default risk_score)\n",
        "cat2 = categorize_customer(60000)\n",
        "print(cat2)  # Standard"
      ]
    },
    {
      "cell_type": "markdown",
      "id": "0c0f45c2",
      "metadata": {
        "id": "0c0f45c2"
      },
      "source": [
        "### Multiple Return Values"
      ]
    },
    {
      "cell_type": "code",
      "execution_count": null,
      "id": "e255a3d9",
      "metadata": {
        "colab": {
          "base_uri": "https://localhost:8080/"
        },
        "id": "e255a3d9",
        "outputId": "ddbb378a-b800-4ffb-d442-97696a0a3a0b"
      },
      "outputs": [
        {
          "name": "stdout",
          "output_type": "stream",
          "text": [
            "Category: Premium, Fee: $0\n"
          ]
        }
      ],
      "source": [
        "def analyze_account(balance):\n",
        "    \"\"\"Return both category and monthly fee\"\"\"\n",
        "    if balance > 10000:\n",
        "        return \"Premium\", 0\n",
        "    elif balance > 5000:\n",
        "        return \"Standard\", 5\n",
        "    else:\n",
        "        return \"Basic\", 10\n",
        "\n",
        "# Unpack multiple returns\n",
        "category, fee = analyze_account(12000)\n",
        "print(f\"Category: {category}, Fee: ${fee}\")"
      ]
    },
    {
      "cell_type": "markdown",
      "id": "f0b16428",
      "metadata": {
        "id": "f0b16428"
      },
      "source": [
        "### Functions that Process Lists"
      ]
    },
    {
      "cell_type": "code",
      "execution_count": null,
      "id": "2803c6d3",
      "metadata": {
        "colab": {
          "base_uri": "https://localhost:8080/"
        },
        "id": "2803c6d3",
        "outputId": "885a1fab-c39c-4045-f9f5-fd14dcfde129"
      },
      "outputs": [
        {
          "name": "stdout",
          "output_type": "stream",
          "text": [
            "Total: $26,500\n"
          ]
        }
      ],
      "source": [
        "def calculate_total(balances):\n",
        "    \"\"\"Sum all balances, skipping None values\"\"\"\n",
        "    total = 0\n",
        "    for balance in balances:\n",
        "        if balance is not None:\n",
        "            total += balance\n",
        "    return total\n",
        "\n",
        "balances = [1000, 2500, None, 15000, None, 8000]\n",
        "total = calculate_total(balances)\n",
        "print(f\"Total: ${total:,}\")"
      ]
    },
    {
      "cell_type": "markdown",
      "id": "a61a3ce3",
      "metadata": {
        "id": "a61a3ce3"
      },
      "source": [
        "### Exercise 6 (3 min)\n",
        "\n",
        "Write a function `is_high_risk(risk_score, income)` that returns True if risk_score < 650 OR income < 30000."
      ]
    },
    {
      "cell_type": "code",
      "execution_count": null,
      "id": "d875d6ca",
      "metadata": {
        "id": "d875d6ca"
      },
      "outputs": [],
      "source": [
        "# Your code here:"
      ]
    },
    {
      "cell_type": "markdown",
      "id": "5a6943d6",
      "metadata": {
        "id": "5a6943d6"
      },
      "source": [
        "---\n",
        "\n",
        "## Part 7: Advanced Concepts\n",
        "\n",
        "### Exception Handling (try/except)"
      ]
    },
    {
      "cell_type": "code",
      "execution_count": null,
      "id": "-TpBbMculuWf",
      "metadata": {
        "colab": {
          "base_uri": "https://localhost:8080/",
          "height": 176
        },
        "id": "-TpBbMculuWf",
        "outputId": "565c9f31-5d2b-4d04-aee8-5579b0bfdf5f"
      },
      "outputs": [
        {
          "ename": "ZeroDivisionError",
          "evalue": "division by zero",
          "output_type": "error",
          "traceback": [
            "\u001b[0;31m---------------------------------------------------------------------------\u001b[0m",
            "\u001b[0;31mZeroDivisionError\u001b[0m                         Traceback (most recent call last)",
            "\u001b[0;32m/tmp/ipython-input-335210401.py\u001b[0m in \u001b[0;36m<cell line: 0>\u001b[0;34m()\u001b[0m\n\u001b[1;32m      1\u001b[0m \u001b[0mbalance\u001b[0m \u001b[0;34m=\u001b[0m \u001b[0;36m10000\u001b[0m\u001b[0;34m\u001b[0m\u001b[0;34m\u001b[0m\u001b[0m\n\u001b[1;32m      2\u001b[0m \u001b[0mrisk_score\u001b[0m \u001b[0;34m=\u001b[0m \u001b[0;36m0\u001b[0m\u001b[0;34m\u001b[0m\u001b[0;34m\u001b[0m\u001b[0m\n\u001b[0;32m----> 3\u001b[0;31m \u001b[0mratio\u001b[0m \u001b[0;34m=\u001b[0m \u001b[0mbalance\u001b[0m \u001b[0;34m/\u001b[0m \u001b[0mrisk_score\u001b[0m  \u001b[0;31m# Division by zero!\u001b[0m\u001b[0;34m\u001b[0m\u001b[0;34m\u001b[0m\u001b[0m\n\u001b[0m",
            "\u001b[0;31mZeroDivisionError\u001b[0m: division by zero"
          ]
        }
      ],
      "source": [
        "balance = 10000\n",
        "risk_score = 0\n",
        "ratio = balance / risk_score  # Division by zero!"
      ]
    },
    {
      "cell_type": "code",
      "execution_count": null,
      "id": "67774ce7",
      "metadata": {
        "colab": {
          "base_uri": "https://localhost:8080/"
        },
        "id": "67774ce7",
        "outputId": "b7f6acc0-1934-408b-9cd4-5fdde843d433"
      },
      "outputs": [
        {
          "name": "stdout",
          "output_type": "stream",
          "text": [
            "Error occurred during calculation\n"
          ]
        }
      ],
      "source": [
        "# Basic try/except\n",
        "try:\n",
        "    balance = 10000\n",
        "    risk_score = 0\n",
        "    ratio = balance / risk_score  # Division by zero!\n",
        "except:\n",
        "    print(\"Error occurred during calculation\")"
      ]
    },
    {
      "cell_type": "markdown",
      "id": "fd9fd0bc",
      "metadata": {
        "id": "fd9fd0bc"
      },
      "source": [
        "### Better Error Handling"
      ]
    },
    {
      "cell_type": "code",
      "execution_count": null,
      "id": "70921268",
      "metadata": {
        "colab": {
          "base_uri": "https://localhost:8080/"
        },
        "id": "70921268",
        "outputId": "9a6a9a00-32cc-47a4-a783-11b111c5c6ac"
      },
      "outputs": [
        {
          "name": "stdout",
          "output_type": "stream",
          "text": [
            "Enter balance: 10000\n",
            "Enter risk score: 0\n",
            "<class 'int'>\n",
            "<class 'int'>\n",
            "Cannot divide by zero\n",
            "Result: 0\n"
          ]
        }
      ],
      "source": [
        "balance = int(input(\"Enter balance: \"))\n",
        "risk_score = int(input(\"Enter risk score: \"))\n",
        "print(type(balance))\n",
        "print(type(risk_score))\n",
        "try:\n",
        "    result = balance / risk_score\n",
        "except ZeroDivisionError:\n",
        "    print(\"Cannot divide by zero\")\n",
        "    result = 0\n",
        "except Exception as e:\n",
        "    print(f\"Unexpected error: {e}\")\n",
        "    result = None\n",
        "\n",
        "print(f\"Result: {result}\")"
      ]
    },
    {
      "cell_type": "markdown",
      "id": "16129733",
      "metadata": {
        "id": "16129733"
      },
      "source": [
        "### Try/Except with Else and Finally"
      ]
    },
    {
      "cell_type": "code",
      "execution_count": null,
      "id": "-6AMVXdNohS5",
      "metadata": {
        "colab": {
          "base_uri": "https://localhost:8080/",
          "height": 35
        },
        "id": "-6AMVXdNohS5",
        "outputId": "7adbf2d0-7bed-4234-b023-7f769ccab82f"
      },
      "outputs": [
        {
          "data": {
            "application/vnd.google.colaboratory.intrinsic+json": {
              "type": "string"
            },
            "text/plain": [
              "'HiHiHi'"
            ]
          },
          "execution_count": 56,
          "metadata": {},
          "output_type": "execute_result"
        }
      ],
      "source": [
        "\"Hi\"*3"
      ]
    },
    {
      "cell_type": "code",
      "execution_count": null,
      "id": "ce179a80",
      "metadata": {
        "colab": {
          "base_uri": "https://localhost:8080/"
        },
        "id": "ce179a80",
        "outputId": "a24824fc-95e0-42b6-8546-8bc224b67350"
      },
      "outputs": [
        {
          "name": "stdout",
          "output_type": "stream",
          "text": [
            "Error: division by zero\n",
            "Cleanup complete\n"
          ]
        }
      ],
      "source": [
        "try:\n",
        "    balance = 10000\n",
        "    rate = 0.02\n",
        "    interest = balance * rate\n",
        "except Exception as e:\n",
        "    print(f\"Error: {e}\")\n",
        "else:\n",
        "    print(f\"Calculation successful: ${interest}\")\n",
        "finally:\n",
        "    print(\"Cleanup complete\")"
      ]
    },
    {
      "cell_type": "markdown",
      "id": "9c190618",
      "metadata": {
        "id": "9c190618"
      },
      "source": [
        "### Type Casting (Converting Between Types)\n",
        "\n",
        "You'll see this in PySpark when defining schemas and transforming data."
      ]
    },
    {
      "cell_type": "code",
      "execution_count": null,
      "id": "177364a0",
      "metadata": {
        "colab": {
          "base_uri": "https://localhost:8080/"
        },
        "id": "177364a0",
        "outputId": "1beef233-66dd-4f66-cb0a-ed8cebe54968"
      },
      "outputs": [
        {
          "name": "stdout",
          "output_type": "stream",
          "text": [
            "40\n",
            "15300.51\n",
            "Customer count: 1000\n",
            "Cannot convert to integer\n"
          ]
        }
      ],
      "source": [
        "# String to integer\n",
        "age_str = \"35\"\n",
        "age_int = int(age_str)\n",
        "print(age_int + 5)  # 40\n",
        "\n",
        "# String to float\n",
        "balance_str = \"15000.50\"\n",
        "balance_float = float(balance_str)\n",
        "print(balance_float * 1.02)\n",
        "\n",
        "# Integer to string\n",
        "count = 1000\n",
        "count_str = str(count)\n",
        "print(f\"Customer count: {count_str}\")\n",
        "\n",
        "# Handling errors in conversion\n",
        "try:\n",
        "    bad_number = int(\"not a number\")\n",
        "except ValueError:\n",
        "    print(\"Cannot convert to integer\")\n",
        "    bad_number = 0"
      ]
    },
    {
      "cell_type": "markdown",
      "id": "007b86ed",
      "metadata": {
        "id": "007b86ed"
      },
      "source": [
        "### Type Checking"
      ]
    },
    {
      "cell_type": "code",
      "execution_count": null,
      "id": "6fdd2055",
      "metadata": {
        "colab": {
          "base_uri": "https://localhost:8080/"
        },
        "id": "6fdd2055",
        "outputId": "c5c777da-b68c-488d-e601-a162bddbadd1"
      },
      "outputs": [
        {
          "name": "stdout",
          "output_type": "stream",
          "text": [
            "True\n",
            "False\n",
            "False\n",
            "Numeric balance: $15000.5\n"
          ]
        }
      ],
      "source": [
        "balance = 15000.50\n",
        "\n",
        "# Check type\n",
        "type(balance)  # <class 'float'>\n",
        "\n",
        "# Check if specific type\n",
        "print(isinstance(balance, float))  # True\n",
        "print(isinstance(balance, int))    # False\n",
        "print(isinstance(balance, str))    # False\n",
        "\n",
        "# Conditional logic based on type\n",
        "if isinstance(balance, (int, float)):\n",
        "    print(f\"Numeric balance: ${balance}\")\n",
        "else:\n",
        "    print(\"Invalid balance type\")"
      ]
    },
    {
      "cell_type": "markdown",
      "id": "fb5fb81e",
      "metadata": {
        "id": "fb5fb81e"
      },
      "source": [
        "### Lambda Functions (Anonymous Functions)\n",
        "\n",
        "Lambda functions are one-line functions without a name. Common in modern Python for data processing and functional programming."
      ]
    },
    {
      "cell_type": "code",
      "execution_count": null,
      "id": "46cb12ae",
      "metadata": {
        "colab": {
          "base_uri": "https://localhost:8080/"
        },
        "id": "46cb12ae",
        "outputId": "72f3b181-632b-4fbc-df51-48a8bbfb328e"
      },
      "outputs": [
        {
          "name": "stdout",
          "output_type": "stream",
          "text": [
            "10\n",
            "10\n",
            "15\n",
            "High\n",
            "Low\n"
          ]
        }
      ],
      "source": [
        "# Regular function\n",
        "def multiply_by_2(x):\n",
        "    return x * 2\n",
        "\n",
        "print(multiply_by_2(5))  # 10\n",
        "\n",
        "# Lambda version (same thing)\n",
        "multiply = lambda x: x * 2\n",
        "print(multiply(5))  # 10\n",
        "\n",
        "# Lambda with multiple arguments\n",
        "calculate = lambda x, y: x * y\n",
        "print(calculate(5, 3))  # 15\n",
        "\n",
        "# Lambda with conditional\n",
        "categorize = lambda balance: \"High\" if balance > 10000 else \"Low\"\n",
        "print(categorize(15000))  # \"High\"\n",
        "print(categorize(5000))   # \"Low\""
      ]
    },
    {
      "cell_type": "markdown",
      "id": "e87db30a",
      "metadata": {
        "id": "e87db30a"
      },
      "source": [
        "### Lambda in List Operations"
      ]
    },
    {
      "cell_type": "code",
      "execution_count": null,
      "id": "d9fea06b",
      "metadata": {
        "colab": {
          "base_uri": "https://localhost:8080/"
        },
        "id": "d9fea06b",
        "outputId": "2b4751cb-a516-46a6-8ff6-538c3054f89a"
      },
      "outputs": [
        {
          "name": "stdout",
          "output_type": "stream",
          "text": [
            "[15000, 8000]\n",
            "[2000, 5000, 30000, 1000, 16000]\n",
            "Charlie: $35,000\n",
            "Alice: $25,000\n",
            "Bob: $15,000\n"
          ]
        }
      ],
      "source": [
        "balances = [1000, 2500, 15000, 500, 8000]\n",
        "\n",
        "# Filter with lambda\n",
        "high_balances = list(filter(lambda x: x > 5000, balances))\n",
        "print(high_balances)  # [15000, 8000]\n",
        "\n",
        "# Map (transform) with lambda\n",
        "doubled = list(map(lambda x: x * 2, balances))\n",
        "print(doubled)  # [2000, 5000, 30000, 1000, 16000]\n",
        "\n",
        "# Sort with lambda (sort dictionaries by value)\n",
        "customers = [\n",
        "    {\"name\": \"Alice\", \"balance\": 25000},\n",
        "    {\"name\": \"Bob\", \"balance\": 15000},\n",
        "    {\"name\": \"Charlie\", \"balance\": 35000}\n",
        "]\n",
        "\n",
        "sorted_customers = sorted(customers, key=lambda x: x[\"balance\"], reverse=True)\n",
        "for c in sorted_customers:\n",
        "    print(f\"{c['name']}: ${c['balance']:,}\")"
      ]
    },
    {
      "cell_type": "markdown",
      "id": "6efe5c7a",
      "metadata": {
        "id": "6efe5c7a"
      },
      "source": [
        "### Exercise 7 (3 min)\n",
        "\n",
        "1. Create a lambda that checks if a number is > 10000\n",
        "2. Use it with filter on: `[5000, 15000, 8000, 25000, 3000]`"
      ]
    },
    {
      "cell_type": "code",
      "execution_count": null,
      "id": "552fc1d4",
      "metadata": {
        "colab": {
          "base_uri": "https://localhost:8080/"
        },
        "id": "552fc1d4",
        "outputId": "f79fc453-b98b-4b72-f5c9-0846137420e4"
      },
      "outputs": [
        {
          "data": {
            "text/plain": [
              "[15000, 25000]"
            ]
          },
          "execution_count": 62,
          "metadata": {},
          "output_type": "execute_result"
        }
      ],
      "source": [
        "# Your code here:\n",
        "balances = [5000, 15000, 8000, 25000, 3000]\n",
        "list(filter(lambda x:x>10000, balances))"
      ]
    },
    {
      "cell_type": "markdown",
      "id": "00c90cbc",
      "metadata": {
        "id": "00c90cbc"
      },
      "source": [
        "---\n",
        "\n",
        "## Part 8: Putting It All Together\n",
        "\n",
        "### Real-World Banking Scenario"
      ]
    },
    {
      "cell_type": "code",
      "execution_count": null,
      "id": "87e47429",
      "metadata": {
        "id": "87e47429"
      },
      "outputs": [],
      "source": [
        "# Customer data with some None values\n",
        "customers_data = [\n",
        "    {\"id\": \"C001\", \"name\": \"Alice\", \"income\": 75000, \"risk_score\": 720, \"email\": \"alice@email.com\"},\n",
        "    {\"id\": \"C002\", \"name\": \"Bob\", \"income\": 45000, \"risk_score\": None, \"email\": None},\n",
        "    {\"id\": \"C003\", \"name\": \"Charlie\", \"income\": 120000, \"risk_score\": 780, \"email\": \"charlie@email.com\"},\n",
        "    {\"id\": \"C004\", \"name\": \"Diana\", \"income\": None, \"risk_score\": 620, \"email\": \"diana@email.com\"},\n",
        "    {\"id\": \"C005\", \"name\": \"Eve\", \"income\": 95000, \"risk_score\": 710, \"email\": None}\n",
        "]"
      ]
    },
    {
      "cell_type": "markdown",
      "id": "eab5e93c",
      "metadata": {
        "id": "eab5e93c"
      },
      "source": [
        "### Task 1: Count Missing Values"
      ]
    },
    {
      "cell_type": "code",
      "execution_count": null,
      "id": "45608bba",
      "metadata": {
        "id": "45608bba"
      },
      "outputs": [],
      "source": [
        "missing_risk_scores = 0\n",
        "missing_emails = 0\n",
        "\n",
        "for customer in customers_data:\n",
        "    if customer[\"risk_score\"] is None:\n",
        "        missing_risk_scores += 1\n",
        "    if customer[\"email\"] is None:\n",
        "        missing_emails += 1\n",
        "\n",
        "print(f\"Missing risk scores: {missing_risk_scores}\")\n",
        "print(f\"Missing emails: {missing_emails}\")"
      ]
    },
    {
      "cell_type": "markdown",
      "id": "40f0ba9e",
      "metadata": {
        "id": "40f0ba9e"
      },
      "source": [
        "### Task 2: Calculate Average (Handling None)"
      ]
    },
    {
      "cell_type": "code",
      "execution_count": null,
      "id": "b72f917c",
      "metadata": {
        "id": "b72f917c"
      },
      "outputs": [],
      "source": [
        "def calculate_average_income(customers):\n",
        "    \"\"\"Calculate average income, ignoring None values\"\"\"\n",
        "    total = 0\n",
        "    count = 0\n",
        "\n",
        "    for customer in customers:\n",
        "        income = customer[\"income\"]\n",
        "        if income is not None:\n",
        "            total += income\n",
        "            count += 1\n",
        "\n",
        "    if count > 0:\n",
        "        return total / count\n",
        "    else:\n",
        "        return 0\n",
        "\n",
        "avg_income = calculate_average_income(customers_data)\n",
        "print(f\"Average income: ${avg_income:,.2f}\")"
      ]
    },
    {
      "cell_type": "markdown",
      "id": "8ef9335a",
      "metadata": {
        "id": "8ef9335a"
      },
      "source": [
        "### Task 3: Data Quality Report with Exception Handling"
      ]
    },
    {
      "cell_type": "code",
      "execution_count": null,
      "id": "c74afbcf",
      "metadata": {
        "id": "c74afbcf"
      },
      "outputs": [],
      "source": [
        "def generate_quality_report(customers):\n",
        "    \"\"\"Generate data quality report with error handling\"\"\"\n",
        "    try:\n",
        "        total_records = len(customers)\n",
        "\n",
        "        # Count complete records\n",
        "        complete = 0\n",
        "        for customer in customers:\n",
        "            if (customer.get(\"income\") is not None and\n",
        "                customer.get(\"risk_score\") is not None and\n",
        "                customer.get(\"email\") is not None):\n",
        "                complete += 1\n",
        "\n",
        "        completeness_rate = (complete / total_records) * 100\n",
        "\n",
        "        print(f\"Total records: {total_records}\")\n",
        "        print(f\"Complete records: {complete}\")\n",
        "        print(f\"Completeness rate: {completeness_rate:.1f}%\")\n",
        "\n",
        "        return True\n",
        "\n",
        "    except Exception as e:\n",
        "        print(f\"Error generating report: {e}\")\n",
        "        return False\n",
        "\n",
        "generate_quality_report(customers_data)"
      ]
    },
    {
      "cell_type": "markdown",
      "id": "5f67be4e",
      "metadata": {
        "id": "5f67be4e"
      },
      "source": [
        "### Task 4: Categorize with Lambda"
      ]
    },
    {
      "cell_type": "code",
      "execution_count": null,
      "id": "e4bc90c1",
      "metadata": {
        "id": "e4bc90c1"
      },
      "outputs": [],
      "source": [
        "# Create tier using lambda\n",
        "assign_tier = lambda c: (\n",
        "    \"Gold\" if (c.get(\"income\") or 0) > 100000 and (c.get(\"risk_score\") or 0) > 750\n",
        "    else \"Silver\" if (c.get(\"income\") or 0) > 60000 and (c.get(\"risk_score\") or 0) > 700\n",
        "    else \"Bronze\"\n",
        ")\n",
        "\n",
        "# Apply to all customers\n",
        "for customer in customers_data:\n",
        "    tier = assign_tier(customer)\n",
        "    print(f\"{customer['name']}: {tier}\")"
      ]
    },
    {
      "cell_type": "markdown",
      "id": "637e61e9",
      "metadata": {
        "id": "637e61e9"
      },
      "source": [
        "### Final Challenge (Your Turn)\n",
        "\n",
        "Complete these tasks:\n",
        "\n",
        "1. **Find contactable customers:** Those with non-None email\n",
        "2. **Calculate total income** (sum of all non-None incomes)\n",
        "3. **Identify high-risk customers:** Risk score < 650 or None\n",
        "4. **Create summary function:** Returns dict with counts and totals"
      ]
    },
    {
      "cell_type": "code",
      "execution_count": null,
      "id": "4bb161d4",
      "metadata": {
        "id": "4bb161d4"
      },
      "outputs": [],
      "source": [
        "# Task 1: Contactable customers\n",
        "contactable = []\n",
        "# Your code here:\n",
        "\n",
        "\n",
        "# Task 2: Total income\n",
        "total_income = 0\n",
        "# Your code here:\n",
        "\n",
        "\n",
        "# Task 3: High-risk customers\n",
        "high_risk = []\n",
        "# Your code here:\n",
        "\n",
        "\n",
        "# Task 4: Summary function\n",
        "def create_summary(customers):\n",
        "    \"\"\"\n",
        "    Return dictionary with:\n",
        "    - total_customers\n",
        "    - contactable_count\n",
        "    - high_risk_count\n",
        "    - total_income\n",
        "    \"\"\"\n",
        "    # Your code here:\n",
        "    pass\n",
        "\n",
        "summary = create_summary(customers_data)\n",
        "print(summary)"
      ]
    },
    {
      "cell_type": "markdown",
      "id": "c2bdeac2",
      "metadata": {
        "id": "c2bdeac2"
      },
      "source": [
        "---\n",
        "\n",
        "## Summary: What You've Learned\n",
        "\n",
        "**Core Concepts:**\n",
        "- Imports and comments\n",
        "- Variables and data types\n",
        "- String formatting with f-strings\n",
        "- Lists and dictionaries\n",
        "- None/null handling\n",
        "- If statements and for loops\n",
        "- Functions (regular and lambda)\n",
        "- Exception handling (try/except)\n",
        "- Type casting\n",
        "\n",
        "**Why These Matter:**\n",
        "- **Imports:** Every Python project starts with imports\n",
        "- **f-strings:** Modern, readable way to format strings\n",
        "- **Dictionaries:** Essential for working with structured data\n",
        "- **None handling:** Critical for data quality and error prevention\n",
        "- **Functions:** Core building blocks of reusable code\n",
        "- **Lambda:** Powerful for data transformations and filtering\n",
        "- **Try/except:** Professional error handling in production code\n",
        "\n",
        "**You're Now Ready For:**\n",
        "- Writing real Python programs\n",
        "- Working with data manipulation libraries (pandas, numpy)\n",
        "- Building web applications (Flask, Django)\n",
        "- Data analysis and visualization projects\n",
        "- Advanced Python courses and frameworks\n",
        "\n",
        "Keep practicing and building projects!"
      ]
    }
  ],
  "metadata": {
    "colab": {
      "provenance": []
    },
    "jupytext": {
      "cell_metadata_filter": "-all",
      "main_language": "python",
      "notebook_metadata_filter": "-all"
    },
    "kernelspec": {
      "display_name": "Python 3",
      "name": "python3"
    },
    "language_info": {
      "name": "python"
    }
  },
  "nbformat": 4,
  "nbformat_minor": 5
}