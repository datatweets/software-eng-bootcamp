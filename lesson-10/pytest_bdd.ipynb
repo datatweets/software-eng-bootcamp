{
  "nbformat": 4,
  "nbformat_minor": 0,
  "metadata": {
    "colab": {
      "provenance": []
    },
    "kernelspec": {
      "name": "python3",
      "display_name": "Python 3"
    },
    "language_info": {
      "name": "python"
    }
  },
  "cells": [
    {
      "cell_type": "markdown",
      "source": [
        "# BDD Shopping Cart: Complete Explanation\n",
        "\n",
        "## 1. What is BDD?\n",
        "\n",
        "Behavior-Driven Development bridges the gap between business requirements and technical implementation. It uses plain language to describe how software should behave.\n",
        "\n",
        "## 2. The Workflow\n",
        "\n",
        "```\n",
        "Feature File (Gherkin) → Step Definitions (Python) → Production Code\n",
        "```\n",
        "\n",
        "- Business stakeholders write/review feature files\n",
        "- Developers implement step definitions\n",
        "- Step definitions test the actual application code\n",
        "\n",
        "## 3. Key Components\n",
        "\n",
        "### a) Feature File (`shopping_cart.feature`)\n",
        "- Written in Gherkin language (Given-When-Then)\n",
        "- Describes behavior from user's perspective\n",
        "- Readable by non-technical stakeholders\n",
        "\n",
        "### b) Step Definitions (`test_shopping_cart.py`)\n",
        "- Python functions that execute each Gherkin step\n",
        "- Use decorators (`@given`, `@when`, `@then`) to match steps\n",
        "- `parsers.parse()` extracts values from step text\n",
        "\n",
        "### c) Fixtures (`conftest.py`)\n",
        "- Provide reusable setup code\n",
        "- Create fresh instances for each test (isolation)\n",
        "- The `cart` fixture gives each scenario a clean ShoppingCart\n",
        "\n",
        "### d) Production Code (`shopping_cart.py`)\n",
        "- The actual application being tested\n",
        "- Implements business logic\n",
        "- Uses Decimal for precise currency calculations\n",
        "\n",
        "## 4. Why Decimal for Currency?\n",
        "\n",
        "Floating-point numbers have precision issues:\n",
        "\n",
        "**Problem:**\n",
        "```python\n",
        "0.1 + 0.2 = 0.30000000000000004  # Not exactly 0.3!\n",
        "```\n",
        "\n",
        "**Solution:**\n",
        "```python\n",
        "Decimal('0.1') + Decimal('0.2') = Decimal('0.3')  # Exact!\n",
        "```\n",
        "\n",
        "This prevents bugs in financial calculations.\n",
        "\n",
        "## 5. Test Isolation\n",
        "\n",
        "Each scenario gets a fresh cart via the fixture. This means:\n",
        "\n",
        "- Scenario 1 doesn't affect Scenario 2\n",
        "- Tests can run in any order\n",
        "- Failures are easier to diagnose\n",
        "\n",
        "## 6. The Feedback Loop\n",
        "\n",
        "1. Write feature → Write step definitions → Implement code\n",
        "2. Run tests to verify behavior\n",
        "3. When **green**, everyone knows the feature works\n",
        "4. When **red**, clear error messages show what broke\n",
        "\n",
        "## 7. Benefits\n",
        "\n",
        "- **Living documentation** (feature files)\n",
        "- **Shared understanding** between business and tech\n",
        "- **Automated verification** of requirements\n",
        "- **Regression protection**\n",
        "\n",
        "---\n",
        "\n",
        "### Quick Reference: BDD Stack\n",
        "\n",
        "| Layer | Technology | Purpose |\n",
        "|-------|-----------|---------|\n",
        "| Specification | Gherkin | Human-readable behavior descriptions |\n",
        "| Test Framework | pytest-bdd | Connects Gherkin to Python |\n",
        "| Test Organization | pytest fixtures | Manages test state and dependencies |\n",
        "| Application | Python classes | Actual business logic |"
      ],
      "metadata": {
        "id": "2mEQIS4IfmxZ"
      }
    },
    {
      "cell_type": "code",
      "execution_count": 1,
      "metadata": {
        "colab": {
          "base_uri": "https://localhost:8080/"
        },
        "id": "owztMNsod1ET",
        "outputId": "2cf61cb6-09e9-49bd-ce83-239cbbc3d0ee"
      },
      "outputs": [
        {
          "output_type": "stream",
          "name": "stdout",
          "text": [
            "Requirement already satisfied: pytest in /usr/local/lib/python3.12/dist-packages (8.4.2)\n",
            "Collecting pytest-bdd\n",
            "  Downloading pytest_bdd-8.1.0-py3-none-any.whl.metadata (53 kB)\n",
            "\u001b[2K     \u001b[90m━━━━━━━━━━━━━━━━━━━━━━━━━━━━━━━━━━━━━━━━\u001b[0m \u001b[32m53.0/53.0 kB\u001b[0m \u001b[31m1.9 MB/s\u001b[0m eta \u001b[36m0:00:00\u001b[0m\n",
            "\u001b[?25hRequirement already satisfied: iniconfig>=1 in /usr/local/lib/python3.12/dist-packages (from pytest) (2.1.0)\n",
            "Requirement already satisfied: packaging>=20 in /usr/local/lib/python3.12/dist-packages (from pytest) (25.0)\n",
            "Requirement already satisfied: pluggy<2,>=1.5 in /usr/local/lib/python3.12/dist-packages (from pytest) (1.6.0)\n",
            "Requirement already satisfied: pygments>=2.7.2 in /usr/local/lib/python3.12/dist-packages (from pytest) (2.19.2)\n",
            "Requirement already satisfied: Mako in /usr/local/lib/python3.12/dist-packages (from pytest-bdd) (1.3.10)\n",
            "Collecting gherkin-official<30.0.0,>=29.0.0 (from pytest-bdd)\n",
            "  Downloading gherkin_official-29.0.0-py3-none-any.whl.metadata (563 bytes)\n",
            "Collecting parse (from pytest-bdd)\n",
            "  Downloading parse-1.20.2-py2.py3-none-any.whl.metadata (22 kB)\n",
            "Collecting parse-type (from pytest-bdd)\n",
            "  Downloading parse_type-0.6.6-py2.py3-none-any.whl.metadata (12 kB)\n",
            "Requirement already satisfied: typing-extensions in /usr/local/lib/python3.12/dist-packages (from pytest-bdd) (4.15.0)\n",
            "Requirement already satisfied: MarkupSafe>=0.9.2 in /usr/local/lib/python3.12/dist-packages (from Mako->pytest-bdd) (3.0.3)\n",
            "Requirement already satisfied: six>=1.15 in /usr/local/lib/python3.12/dist-packages (from parse-type->pytest-bdd) (1.17.0)\n",
            "Downloading pytest_bdd-8.1.0-py3-none-any.whl (49 kB)\n",
            "\u001b[2K   \u001b[90m━━━━━━━━━━━━━━━━━━━━━━━━━━━━━━━━━━━━━━━━\u001b[0m \u001b[32m49.1/49.1 kB\u001b[0m \u001b[31m3.0 MB/s\u001b[0m eta \u001b[36m0:00:00\u001b[0m\n",
            "\u001b[?25hDownloading gherkin_official-29.0.0-py3-none-any.whl (37 kB)\n",
            "Downloading parse-1.20.2-py2.py3-none-any.whl (20 kB)\n",
            "Downloading parse_type-0.6.6-py2.py3-none-any.whl (27 kB)\n",
            "Installing collected packages: parse, gherkin-official, parse-type, pytest-bdd\n",
            "Successfully installed gherkin-official-29.0.0 parse-1.20.2 parse-type-0.6.6 pytest-bdd-8.1.0\n"
          ]
        }
      ],
      "source": [
        "!pip install pytest pytest-bdd"
      ]
    },
    {
      "cell_type": "code",
      "source": [
        "%%writefile shopping_cart.py\n",
        "from decimal import Decimal\n",
        "from typing import Dict\n",
        "\n",
        "class ShoppingCart:\n",
        "    \"\"\"\n",
        "    A shopping cart that manages products and calculates totals.\n",
        "\n",
        "    This class represents the actual application code we're testing.\n",
        "    It handles adding items and calculating the total price.\n",
        "    \"\"\"\n",
        "\n",
        "    def __init__(self):\n",
        "        \"\"\"Initialize an empty shopping cart\"\"\"\n",
        "        self._items: Dict[str, Decimal] = {}\n",
        "\n",
        "    def clear(self):\n",
        "        \"\"\"Remove all items from the cart\"\"\"\n",
        "        self._items.clear()\n",
        "\n",
        "    def add_item(self, product_name: str, price: Decimal):\n",
        "        \"\"\"\n",
        "        Add a product to the cart\n",
        "\n",
        "        Args:\n",
        "            product_name: Name of the product\n",
        "            price: Price as a Decimal for precise currency handling\n",
        "        \"\"\"\n",
        "        if product_name in self._items:\n",
        "            # If item already exists, add to its price (quantity handling)\n",
        "            self._items[product_name] += price\n",
        "        else:\n",
        "            self._items[product_name] = price\n",
        "\n",
        "    def item_count(self) -> int:\n",
        "        \"\"\"Return the number of unique items in the cart\"\"\"\n",
        "        return len(self._items)\n",
        "\n",
        "    def get_total(self) -> Decimal:\n",
        "        \"\"\"Calculate and return the total price of all items\"\"\"\n",
        "        return sum(self._items.values(), Decimal('0'))\n",
        "\n",
        "    def get_items(self) -> Dict[str, Decimal]:\n",
        "        \"\"\"Return a copy of all items in the cart\"\"\"\n",
        "        return self._items.copy()"
      ],
      "metadata": {
        "colab": {
          "base_uri": "https://localhost:8080/"
        },
        "id": "GctztTVJd5ZD",
        "outputId": "3abb6453-3734-43bc-f5b5-ad5925942800"
      },
      "execution_count": 2,
      "outputs": [
        {
          "output_type": "stream",
          "name": "stdout",
          "text": [
            "Writing shopping_cart.py\n"
          ]
        }
      ]
    },
    {
      "cell_type": "code",
      "source": [
        "!mkdir features"
      ],
      "metadata": {
        "id": "U7IbnDgVeIYn"
      },
      "execution_count": 3,
      "outputs": []
    },
    {
      "cell_type": "code",
      "source": [
        "%%writefile features/shopping_cart.feature\n",
        "Feature: Shopping Cart Management\n",
        "  As a customer\n",
        "  I want to manage items in my shopping cart\n",
        "  So that I can purchase products\n",
        "\n",
        "  Scenario: Adding items to an empty cart\n",
        "    Given the shopping cart is empty\n",
        "    When I add a product \"Laptop\" with price 999.99\n",
        "    Then the cart should contain 1 item\n",
        "    And the cart total should be 999.99\n",
        "\n",
        "  Scenario: Adding multiple items\n",
        "    Given the shopping cart is empty\n",
        "    When I add a product \"Laptop\" with price 999.99\n",
        "    And I add a product \"Mouse\" with price 25.50\n",
        "    Then the cart should contain 2 items\n",
        "    And the cart total should be 1025.49\n",
        "\n",
        "  Scenario: Adding the same item twice\n",
        "    Given the shopping cart is empty\n",
        "    When I add a product \"Laptop\" with price 999.99\n",
        "    And I add a product \"Laptop\" with price 999.99\n",
        "    Then the cart should contain 1 item\n",
        "    And the cart total should be 1999.98"
      ],
      "metadata": {
        "colab": {
          "base_uri": "https://localhost:8080/"
        },
        "id": "LhTqbBH3eMM7",
        "outputId": "33498a6c-e35f-4f0c-978c-fddb73c437b2"
      },
      "execution_count": 4,
      "outputs": [
        {
          "output_type": "stream",
          "name": "stdout",
          "text": [
            "Writing features/shopping_cart.feature\n"
          ]
        }
      ]
    },
    {
      "cell_type": "code",
      "source": [
        "!mkdir tests"
      ],
      "metadata": {
        "id": "777s4Wq7eh2s"
      },
      "execution_count": 5,
      "outputs": []
    },
    {
      "cell_type": "code",
      "source": [
        "%%writefile tests/conftest.py\n",
        "import pytest\n",
        "import sys\n",
        "sys.path.insert(0, '/content')  # Add root directory to path for imports\n",
        "\n",
        "from shopping_cart import ShoppingCart\n",
        "\n",
        "@pytest.fixture\n",
        "def cart():\n",
        "    \"\"\"\n",
        "    Fixture provides a fresh ShoppingCart instance for each scenario.\n",
        "\n",
        "    This ensures test isolation - each scenario gets a clean cart,\n",
        "    preventing tests from interfering with each other.\n",
        "\n",
        "    Yields:\n",
        "        ShoppingCart: A new, empty shopping cart instance\n",
        "    \"\"\"\n",
        "    return ShoppingCart()"
      ],
      "metadata": {
        "colab": {
          "base_uri": "https://localhost:8080/"
        },
        "id": "9Xpl-QatePom",
        "outputId": "2e4e3f5a-0448-4d78-c102-40cc9c058561"
      },
      "execution_count": 6,
      "outputs": [
        {
          "output_type": "stream",
          "name": "stdout",
          "text": [
            "Writing tests/conftest.py\n"
          ]
        }
      ]
    },
    {
      "cell_type": "code",
      "source": [
        "!mkdir tests/step_defs"
      ],
      "metadata": {
        "id": "zGoyBVGre7kr"
      },
      "execution_count": 7,
      "outputs": []
    },
    {
      "cell_type": "code",
      "source": [
        "%%writefile tests/step_defs/test_shopping_cart.py\n",
        "import sys\n",
        "sys.path.insert(0, '/content')\n",
        "\n",
        "from pytest_bdd import scenarios, given, when, then, parsers\n",
        "from decimal import Decimal\n",
        "\n",
        "# Load all scenarios from the feature file\n",
        "# This automatically creates test functions for each scenario\n",
        "scenarios('../../features/shopping_cart.feature')\n",
        "\n",
        "@given('the shopping cart is empty')\n",
        "def empty_cart(cart):\n",
        "    \"\"\"\n",
        "    Set up initial state: ensure cart has no items.\n",
        "\n",
        "    We explicitly clear the cart to guarantee a known starting point.\n",
        "    This prevents test failures due to leftover state from previous tests.\n",
        "\n",
        "    Args:\n",
        "        cart: The shopping cart fixture\n",
        "    \"\"\"\n",
        "    cart.clear()\n",
        "    assert cart.item_count() == 0, \"Cart should be empty after clearing\"\n",
        "\n",
        "@when(parsers.parse('I add a product \"{product_name}\" with price {price:f}'))\n",
        "def add_product(cart, product_name, price):\n",
        "    \"\"\"\n",
        "    Perform the action: add a product to the cart.\n",
        "\n",
        "    The parsers.parse decorator extracts:\n",
        "    - product_name as a string (captured by quotes)\n",
        "    - price as a float (converted using :f format)\n",
        "\n",
        "    We convert to Decimal for precise currency handling, avoiding\n",
        "    floating-point errors like 0.1 + 0.2 = 0.30000000000000004\n",
        "\n",
        "    Args:\n",
        "        cart: The shopping cart fixture\n",
        "        product_name: Name of the product to add\n",
        "        price: Price of the product as a float\n",
        "    \"\"\"\n",
        "    cart.add_item(product_name, Decimal(str(price)))\n",
        "\n",
        "@then(parsers.parse('the cart should contain {count:d} item'))\n",
        "@then(parsers.parse('the cart should contain {count:d} items'))\n",
        "def verify_item_count(cart, count):\n",
        "    \"\"\"\n",
        "    Verify outcome: check the cart has expected number of items.\n",
        "\n",
        "    The :d format specifier extracts count as an integer.\n",
        "    We handle both singular \"item\" and plural \"items\" for natural language.\n",
        "\n",
        "    Clear error messages help diagnose failures quickly by showing\n",
        "    both expected and actual values.\n",
        "\n",
        "    Args:\n",
        "        cart: The shopping cart fixture\n",
        "        count: Expected number of items\n",
        "    \"\"\"\n",
        "    actual_count = cart.item_count()\n",
        "    assert actual_count == count, \\\n",
        "        f\"Expected {count} items, but cart has {actual_count}\"\n",
        "\n",
        "@then(parsers.parse('the cart total should be {expected_total:f}'))\n",
        "def verify_cart_total(cart, expected_total):\n",
        "    \"\"\"\n",
        "    Verify outcome: check the cart total matches expected value.\n",
        "\n",
        "    Using Decimal ensures precise currency calculations.\n",
        "    This prevents subtle bugs from floating-point arithmetic.\n",
        "\n",
        "    Example: Without Decimal, 999.99 + 25.50 might not equal exactly 1025.49\n",
        "    due to binary floating-point representation limitations.\n",
        "\n",
        "    Args:\n",
        "        cart: The shopping cart fixture\n",
        "        expected_total: Expected total as a float\n",
        "    \"\"\"\n",
        "    actual_total = cart.get_total()\n",
        "    expected = Decimal(str(expected_total))\n",
        "    assert actual_total == expected, \\\n",
        "        f\"Expected total {expected}, but got {actual_total}\""
      ],
      "metadata": {
        "colab": {
          "base_uri": "https://localhost:8080/"
        },
        "id": "mHpNby0_esxD",
        "outputId": "080811b0-12d9-4ae4-b036-9522d65b453a"
      },
      "execution_count": 8,
      "outputs": [
        {
          "output_type": "stream",
          "name": "stdout",
          "text": [
            "Writing tests/step_defs/test_shopping_cart.py\n"
          ]
        }
      ]
    },
    {
      "cell_type": "code",
      "source": [
        "# Run pytest with verbose output\n",
        "!pytest tests/step_defs/test_shopping_cart.py -v --tb=short"
      ],
      "metadata": {
        "colab": {
          "base_uri": "https://localhost:8080/"
        },
        "id": "CxHnDEnYfCUy",
        "outputId": "67507f6e-bc4d-4ac0-c26c-5f236cd9dc70"
      },
      "execution_count": 9,
      "outputs": [
        {
          "output_type": "stream",
          "name": "stdout",
          "text": [
            "\u001b[1m============================= test session starts ==============================\u001b[0m\n",
            "platform linux -- Python 3.12.12, pytest-8.4.2, pluggy-1.6.0 -- /usr/bin/python3\n",
            "cachedir: .pytest_cache\n",
            "rootdir: /content\n",
            "plugins: bdd-8.1.0, anyio-4.11.0, typeguard-4.4.4, langsmith-0.4.35\n",
            "collected 3 items                                                              \u001b[0m\n",
            "\n",
            "tests/step_defs/test_shopping_cart.py::test_adding_items_to_an_empty_cart \u001b[32mPASSED\u001b[0m\u001b[32m [ 33%]\u001b[0m\n",
            "tests/step_defs/test_shopping_cart.py::test_adding_multiple_items \u001b[32mPASSED\u001b[0m\u001b[32m [ 66%]\u001b[0m\n",
            "tests/step_defs/test_shopping_cart.py::test_adding_the_same_item_twice \u001b[32mPASSED\u001b[0m\u001b[32m [100%]\u001b[0m\n",
            "\n",
            "\u001b[32m============================== \u001b[32m\u001b[1m3 passed\u001b[0m\u001b[32m in 0.25s\u001b[0m\u001b[32m ===============================\u001b[0m\n"
          ]
        }
      ]
    },
    {
      "cell_type": "code",
      "source": [
        "# Run with BDD-style output showing scenario steps\n",
        "!pytest tests/step_defs/test_shopping_cart.py -v --gherkin-terminal-reporter"
      ],
      "metadata": {
        "colab": {
          "base_uri": "https://localhost:8080/"
        },
        "collapsed": true,
        "id": "gh1nter9fC4g",
        "outputId": "95c60062-e46a-4595-c0b5-429475c737da"
      },
      "execution_count": 10,
      "outputs": [
        {
          "output_type": "stream",
          "name": "stdout",
          "text": [
            "\u001b[1m============================= test session starts ==============================\u001b[0m\n",
            "platform linux -- Python 3.12.12, pytest-8.4.2, pluggy-1.6.0 -- /usr/bin/python3\n",
            "cachedir: .pytest_cache\n",
            "rootdir: /content\n",
            "plugins: bdd-8.1.0, anyio-4.11.0, typeguard-4.4.4, langsmith-0.4.35\n",
            "\u001b[1mcollecting ... \u001b[0m\u001b[1m\rcollected 3 items                                                              \u001b[0m\n",
            "\n",
            "tests/step_defs/test_shopping_cart.py::test_adding_items_to_an_empty_cart \n",
            "\u001b[34mFeature: \u001b[0m\u001b[34mShopping Cart Management\u001b[0m\n",
            "\u001b[32m    Scenario: \u001b[0m\u001b[32mAdding items to an empty cart\u001b[0m \u001b[32mPASSED\u001b[0m\n",
            "\n",
            "tests/step_defs/test_shopping_cart.py::test_adding_multiple_items \n",
            "\u001b[34mFeature: \u001b[0m\u001b[34mShopping Cart Management\u001b[0m\n",
            "\u001b[32m    Scenario: \u001b[0m\u001b[32mAdding multiple items\u001b[0m \u001b[32mPASSED\u001b[0m\n",
            "\n",
            "tests/step_defs/test_shopping_cart.py::test_adding_the_same_item_twice \n",
            "\u001b[34mFeature: \u001b[0m\u001b[34mShopping Cart Management\u001b[0m\n",
            "\u001b[32m    Scenario: \u001b[0m\u001b[32mAdding the same item twice\u001b[0m \u001b[32mPASSED\u001b[0m\n",
            "\n",
            "\u001b[32m============================== \u001b[32m\u001b[1m3 passed\u001b[0m\u001b[32m in 0.03s\u001b[0m\u001b[32m ===============================\u001b[0m\n"
          ]
        }
      ]
    }
  ]
}